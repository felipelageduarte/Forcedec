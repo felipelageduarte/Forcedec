{
 "cells": [
  {
   "cell_type": "code",
   "execution_count": 2,
   "metadata": {
    "collapsed": false
   },
   "outputs": [],
   "source": [
    "require(TSDecomposition)\n",
    "require(foreach)\n",
    "require(parallel)\n",
    "require(doMC)\n",
    "require(Rssa)\n",
    "require(FNN)\n",
    "\n",
    "source('utils.r')"
   ]
  },
  {
   "cell_type": "code",
   "execution_count": 3,
   "metadata": {
    "collapsed": false
   },
   "outputs": [],
   "source": [
    "cores = detectCores(all.tests = FALSE, logical = TRUE)"
   ]
  },
  {
   "cell_type": "code",
   "execution_count": 2,
   "metadata": {
    "collapsed": true
   },
   "outputs": [],
   "source": [
    "seriesFolder = 'data'\n",
    "modelFolder  = 'model'\n",
    "resultFolder = 'testResult'"
   ]
  },
  {
   "cell_type": "code",
   "execution_count": null,
   "metadata": {
    "collapsed": true
   },
   "outputs": [],
   "source": [
    "seriesList = loadSeriesFile(dataFolder)"
   ]
  },
  {
   "cell_type": "markdown",
   "metadata": {},
   "source": [
    "---\n",
    "Fourier Decompostion\n",
    "===\n",
    "\n",
    "Computes the Discrete Fourier Transform (DFT) of an array with a fast algorithm, the “Fast Fourier Transform” (FFT). Uses C translation of Fortran code in Singleton (1979).\n",
    "\n",
    "When z is a vector, the value computed and returned by fft is the unnormalized univariate discrete Fourier transform of the sequence of values in z. Specifically, y <- fft(z) returns\n",
    "\n",
    "$$y[h] = \\sum_{k=1}^n z[k]*exp{(\\frac{-2*\\pi*1i*(k-1)*(h-1)}{n})}$$\n",
    "\n",
    "for $h = 1, ..., n$ where $n = length(y)$. If inverse is TRUE, $exp(-2*pi...)$ is replaced with $exp(2*pi...)$. When z contains an array, fft computes and returns the multivariate (spatial) transform. If inverse is TRUE, the (unnormalized) inverse Fourier transform is returned, i.e., if y <- fft(z), then z is fft(y, inverse = TRUE) / length(y). By contrast, mvfft takes a real or complex matrix as argument, and returns a similar shaped matrix, but with each column replaced by its discrete Fourier transform. This is useful for analyzing vector-valued series. The FFT is fastest when the length of the series being transformed is highly composite (i.e., has many factors). If this is not the case, the transform may take a long time to compute and will use a large amount of memory.\n",
    "\n",
    "**References**\n",
    "\n",
    "Becker, R. A., Chambers, J. M. and Wilks, A. R. (1988) The New S Language. Wadsworth & Brooks/Cole.\n",
    "\n",
    "Singleton, R. C. (1979) Mixed Radix Fast Fourier Transforms, in Programs for Digital Signal Processing, IEEE Digital Signal Processing Committee eds. IEEE Press.\n",
    "\n",
    "Cooley, James W., and Tukey, John W. (1965) An algorithm for the machine calculation of complex Fourier series, Math. Comput. 19(90), 297–301. https://dx.doi.org/10.1090/S0025-5718-1965-0178586-1"
   ]
  },
  {
   "cell_type": "code",
   "execution_count": 9,
   "metadata": {
    "collapsed": true
   },
   "outputs": [],
   "source": [
    "fourierDec <- function(series, par){\n",
    "  freq.cutoff = unlist(par[1])\n",
    "\n",
    "  coeffs = fft(series)\n",
    "  mags   = coeffs[1:(length(coeffs)/2)]\n",
    "  mags   = 1+sqrt(Re(mags)^2+Im(mags)^2)\n",
    "  o.idx  = order(mags, decreasing = T)\n",
    "  idx    = (1:length(mags))[-o.idx[1:freq.cutoff]]\n",
    "\n",
    "  coeffs[idx] = complex(real=0, imaginary=0)\n",
    "  coeffs[length(coeffs) - idx + 1] = complex(real=0, imaginary=0)\n",
    "  det = Re(fft(coeffs, inverse=T)) / length(series)\n",
    "\n",
    "  return(det)\n",
    "}"
   ]
  },
  {
   "cell_type": "code",
   "execution_count": 6,
   "metadata": {
    "collapsed": true
   },
   "outputs": [],
   "source": [
    "#all combination of possible parameters for Fourier Algorithm\n",
    "params = expand.grid(\n",
    "  cutoff = 1:50,\n",
    "  stringsAsFactors = FALSE\n",
    ")"
   ]
  },
  {
   "cell_type": "code",
   "execution_count": 11,
   "metadata": {
    "collapsed": false
   },
   "outputs": [],
   "source": [
    "resultTable = gridSearch(fourierDec, params, seriesList, modelFolder, 'fourier', cores)"
   ]
  },
  {
   "cell_type": "code",
   "execution_count": 12,
   "metadata": {
    "collapsed": false
   },
   "outputs": [],
   "source": [
    "write.csv(resultTable, file=paste(resultFolder,'/fourier.csv', sep=''), row.names=FALSE)"
   ]
  },
  {
   "cell_type": "markdown",
   "metadata": {
    "collapsed": true
   },
   "source": [
    "---\n",
    "Wavelets Decompostion\n",
    "==="
   ]
  },
  {
   "cell_type": "markdown",
   "metadata": {},
   "source": [
    "| Parameter |                                                                                                                                                                                                                                                                                                       |\n",
    "|-----------|-------------------------------------------------------------------------------------------------------------------------------------------------------------------------------------------------------------------------------------------------------------------------------------------------------|\n",
    "|  filters  | Either a wt.filter object, a character string indicating which wavelet filter to use in the decomposition, or a numeric vector of wavelet coefficients (not scaling coefficients). See above for acceptable filter names.                                                                   |\n",
    "|  n.levels | An integer specifying the level of the decomposition. By default this is the value J such that the length of the series is at least as great as the length of the level J wavelet filter, but less than the length of the level J+1 wavelet filter. Thus, j <= log((N-1)/(L-1)+1), where N is the length of the series. |\n",
    "|  boundary | A character string indicating which boundary method to use. boundary = \"periodic\" and boundary = \"reflection\" are the only supported methods at this time.                                                                                                                                            |\n",
    "\n",
    "\n",
    "**Filter Details**\n",
    "\n",
    "The character strings currently supported are derived from one of four classes of wavelet transform filters: Daubechies, Least Asymetric, Best Localized and Coiflet. The prefixes for filters of these classes are d, la, bl and c, respectively. Following the prefix, the filter name consists of an integer indicating length. Supported lengths are as follows:\n",
    "\n",
    "* Daubechies: 2,4,6,8,10,12,14,16,18,20.\n",
    "* Least Asymetric: 8,10,12,14,16,18,20.\n",
    "* Best Localized: 14,18,20.\n",
    "* Coiflet: 6,12,18,24,30.\n",
    "\n",
    "Thus, to obtain the Daubechies wavelet transform filter of length 4, the character string \"d4\" can be passed to wt.filter. \n",
    "\n",
    "This naming convention has one exception: the Daubechies wavelet transform filter of length 2 is denoted by haar instead of d2."
   ]
  },
  {
   "cell_type": "code",
   "execution_count": 13,
   "metadata": {
    "collapsed": true
   },
   "outputs": [],
   "source": [
    "waveletDec <- function(series, par){\n",
    "    filter   = unlist(par[1])\n",
    "    n.levels = as.numeric(unlist(par[2]))\n",
    "    boundary = unlist(par[3])\n",
    "\n",
    "    r.wavelet = wavelets::dwt(series,\n",
    "                            filter = filter,\n",
    "                            n.levels=n.levels,\n",
    "                            boundary=boundary,\n",
    "                            fast=TRUE)\n",
    "    for (i in 1:length(r.wavelet@W)) {\n",
    "        r.wavelet@W[[i]] = cbind(rep(0, length(r.wavelet@W[[i]])))\n",
    "    }\n",
    "    det = wavelets::idwt(r.wavelet)\n",
    "    return(det)\n",
    "}"
   ]
  },
  {
   "cell_type": "code",
   "execution_count": 14,
   "metadata": {
    "collapsed": true
   },
   "outputs": [],
   "source": [
    "#all combination of possible parameters for wavelets Algorithm\n",
    "params = expand.grid(\n",
    "  filters = c(\"haar\", \"d4\", \"d6\", \"d8\", \"d10\", \"d12\", \"d14\", \"d16\", \"d18\", \"d20\",#Daubechies\n",
    "              \"la8\", \"la10\", \"la12\", \"la14\", \"la16\", \"la18\", \"la20\", #Least Asymetric\n",
    "              \"bl14\", \"bl18\", \"bl20\", #Best Localized\n",
    "              \"c6\", \"c12\", \"c18\", \"c24\", \"c30\"), #Coiflet\n",
    "  n.levels = 1:9,\n",
    "  boundarys = c(\"periodic\",\"reflection\"),\n",
    "  stringsAsFactors = FALSE\n",
    ")"
   ]
  },
  {
   "cell_type": "code",
   "execution_count": 15,
   "metadata": {
    "collapsed": false
   },
   "outputs": [],
   "source": [
    "resultTable = gridSearch(waveletDec, params, seriesList, modelFolder, 'wavelet', cores)"
   ]
  },
  {
   "cell_type": "code",
   "execution_count": 16,
   "metadata": {
    "collapsed": true
   },
   "outputs": [],
   "source": [
    "write.csv(resultTable, file=paste(resultFolder,'/wavelet.csv', sep=''), row.names=FALSE)"
   ]
  },
  {
   "cell_type": "markdown",
   "metadata": {},
   "source": [
    "---\n",
    "SSA Decomposition\n",
    "==="
   ]
  },
  {
   "cell_type": "markdown",
   "metadata": {},
   "source": [
    "| Parameter |                                                                                                                                                                                                                                                                    |\n",
    "|-----------|--------------------------------------------------------------------------------------------------------------------------------------------------------------------------------------------------------------------------------------------------------------------|\n",
    "|     L     | integer, window length. Fixed to half of the series length by default. Should be vector of length 2 for 2d SSA                                                                                                                                                     |\n",
    "|    neig   | integer, number of desired eigentriples. If 'NULL', then sane default value will be used, see 'Details'                                                                                                                                                            |\n",
    "|    kind   | SSA method. This includes ordinary 1d SSA, 2d SSA, Toeplitz variant of 1d SSA, multichannel variant of SSA and complex SSA                                                                                                                                         |\n",
    "\n",
    "**Variants of SSA**\n",
    "\n",
    "The following implementations of the SSA method are supported (corresponds to different values of kind argument):\n",
    "\n",
    "* **1d-ssa**: Basic 1d SSA as described in Chapter 1 of (Golyandina et al, 2001). This is also known as Broomhead-King variant of SSA or BK-SSA, see (Broomhead and King, 1986).\n",
    "* **toeplitz-ssa**: Toeplitz variant of 1d SSA. See Section 1.7.2 in (Golyandina et al, 2001). This is also knows as Vatuard-Gill variant of SSA or VG-SSA for analysis of stationary time series, see (Vautard and Ghil, 1989).\n",
    "* **mssa**: Multichannel SSA for simultaneous decomposition of several time series (possible of unequal length). See (Golyandina and Stepanov, 2005).\n",
    "* **cssa**: Complex variant of 1d SSA.\n",
    "* **2d-ssa**: 2d SSA for decomposition of images and arrays. See (Golyandina and Usevich, 2009, and Golyandina et.al, 2015) for more information.\n",
    "* **nd-ssa**: Multidimensional SSA decomposition for arrays (tensors).\n",
    "\n",
    "**References**\n",
    "\n",
    "Broomhead, D.S., and King, G.P. (1986a): Extracting qualitative dynamics from experimental data, Physica D, 20, 217–236.\n",
    "\n",
    "Vautard, R., and Ghil, M. (1989): Singular spectrum analysis in nonlinear dynamics, with applications to paleoclimatic time series, Physica D, 35, 395–424.\n",
    "\n",
    "Golyandina, N., Nekrutkin, V. and Zhigljavsky, A. (2001): Analysis of Time Series Structure: SSA and related techniques. Chapman and Hall/CRC. ISBN 1584881941\n",
    "\n",
    "Golyandina, N. and Stepanov, D. (2005): SSA-based approaches to analysis and forecast of multidimensional time series. In Proceedings of the 5th St.Petersburg Workshop on Simulation, June 26-July 2, 2005, St. Petersburg State University, St. Petersburg, 293–298. http://www.gistatgroup.com/gus/mssa2.pdf\n",
    "\n",
    "Golyandina, N. and Usevich, K. (2009): 2D-extensions of singular spectrum analysis: algorithm and elements of theory. In Matrix Methods: Theory, Algorithms, Applications. World Scientific Publishing, 450-474."
   ]
  },
  {
   "cell_type": "code",
   "execution_count": 17,
   "metadata": {
    "collapsed": true
   },
   "outputs": [],
   "source": [
    "ssaDec <- function(series, par){\n",
    "  L        = as.numeric(unlist(par[1]))\n",
    "  neig     = as.numeric(unlist(par[2]))\n",
    "  kind     = unlist(par[3])\n",
    "\n",
    "  #execute\n",
    "  s = Rssa::ssa(series, L=L, neig=neig, kind=kind)\n",
    "  r = reconstruct(s, groups = seq(1:(L/2)))\n",
    "\n",
    "  #mutual information to separate deterministic components\n",
    "  mi = c()\n",
    "  for(i in 1:(length(r)-1))\n",
    "    mi = c(mi, FNN::mutinfo(r[[i]], r[[i+1]]))\n",
    "\n",
    "  det.idx = which.max(abs(diff(mi))) + 1\n",
    "\n",
    "  #sum det. comp.\n",
    "  detComp = rep(0, length(r[[1]]))\n",
    "  for(i in 1:det.idx)\n",
    "    detComp = detComp + r[[i]]\n",
    "\n",
    "  return(detComp)\n",
    "}"
   ]
  },
  {
   "cell_type": "code",
   "execution_count": 18,
   "metadata": {
    "collapsed": false
   },
   "outputs": [],
   "source": [
    "#all combination of possible parameters for wavelets Algorithm\n",
    "params = expand.grid(\n",
    "  list(L = c(6:10,25,50),\n",
    "  neig = c(3:10,25,50),\n",
    "  kind = c('1d-ssa', 'toeplitz-ssa', 'mssa', '2d-ssa', 'nd-ssa')),\n",
    "  stringsAsFactors = FALSE\n",
    ")"
   ]
  },
  {
   "cell_type": "code",
   "execution_count": 19,
   "metadata": {
    "collapsed": false
   },
   "outputs": [],
   "source": [
    "resultTable = gridSearch(ssaDec, params, seriesList, modelFolder, 'ssa', cores)"
   ]
  },
  {
   "cell_type": "code",
   "execution_count": 20,
   "metadata": {
    "collapsed": true
   },
   "outputs": [],
   "source": [
    "write.csv(resultTable, file=paste(resultFolder,'/ssa.csv', sep=''), row.names=FALSE)"
   ]
  },
  {
   "cell_type": "markdown",
   "metadata": {},
   "source": [
    "---\n",
    "EMD-RP Decomposition\n",
    "===\n",
    "\n",
    "Function used to decompose a time series into 2 components: one stochastic and another deterministic. This function uses Empirical Mode Decomposition and Recurrence Plot functions. For more details about this method see: (Rios and Mello, 2013) For more details about RP: (Eckmann et al., 1987; Marwan et al., 2007) For more detail about EMD: (Huang et al., 1998)\n",
    "\n",
    "| Parameter |                                                                      |\n",
    "|-----------|----------------------------------------------------------------------|\n",
    "|  detlevel | determinism threshold [0,1]                                          |\n",
    "|   thresh  | epsilon chosen to determine the recurrent points - estimated if null |\n",
    "|   delay   | delay dimension (phase space) - estimated if null                    |\n",
    "| embedded  | embedded dimension (phase space) - estimated if null                 |\n",
    "\n",
    "**References**\n",
    "\n",
    "Ricardo Araújo Rios, Rodrigo Fernandes de Mello (2013): Improving time series modeling by decomposing and analyzing stochastic and deterministic influences, Signal Processing, Volume 93, Issue 11, November 2013, Pages 3001-3013, ISSN 0165-1684, http://dx.doi.org/10.1016/j.sigpro.2013.04.017.\n",
    "\n",
    "Norden E. Huang, Zheng Shen, Steven R. Long, Manli C. Wu, Hsing H. Shih, Quanan Zheng, Nai-Chyuan Yen, Chi Chao Tung, Henry H. Liu (1998): The empirical mode decomposition and the Hilbert spectrum for nonlinear and non-stationary time series analysis - Proc. R. Soc. Lond. A 1998 454 903-995; DOI: 10.1098/rspa.1998.0193. Published 8 March 1998"
   ]
  },
  {
   "cell_type": "code",
   "execution_count": 21,
   "metadata": {
    "collapsed": true
   },
   "outputs": [],
   "source": [
    "emdrpDec   <- function(series, params){\n",
    "  detlevel = unlist(params[1])\n",
    "  thresh   = unlist(params[2])\n",
    "  delay    = unlist(params[3])\n",
    "  embedded = unlist(params[4])\n",
    "  emdrp    = rpemdDecomposition(series, detlevel, thresh, delay, embedded)\n",
    "  return(emdrp@deterministic)\n",
    "}"
   ]
  },
  {
   "cell_type": "code",
   "execution_count": null,
   "metadata": {
    "collapsed": false
   },
   "outputs": [],
   "source": [
    "params = expand.grid(\n",
    "  detlevel = seq(0.01, 0.99, by=0.05),\n",
    "  thresh   = seq(0.01, 0.99, by=0.05),\n",
    "  stringsAsFactors = FALSE\n",
    ")"
   ]
  },
  {
   "cell_type": "code",
   "execution_count": null,
   "metadata": {
    "collapsed": false
   },
   "outputs": [],
   "source": [
    "resultTable = gridSearch(emdrpDec, params, seriesList, modelFolder, 'emdrp', cores)"
   ]
  },
  {
   "cell_type": "code",
   "execution_count": null,
   "metadata": {
    "collapsed": true
   },
   "outputs": [],
   "source": [
    "write.csv(resultTable, file=paste(resultFolder,'/emdrp.csv', sep=''), row.names=FALSE)"
   ]
  },
  {
   "cell_type": "markdown",
   "metadata": {},
   "source": [
    "---\n",
    "ForceDec\n",
    "===\n",
    "\n",
    "| Parameter |                                                                                                                                                                                                                       |\n",
    "|-----------|-----------------------------------------------------------------------------------------------------------------------------------------------------------------------------------------------------------------------|\n",
    "|     k     | number of nearest neighbor to be considered                                                                                                                                                                           |\n",
    "|   num.it  | maximum number of iteration                                                                                                                                                                                           |\n",
    "|  epsilon  | minimum average displacement used to early stop ForceDec. The premise used here is that once the state movimentation stops, the atractor converged to the topology of the deterministic component in the phase-space. |\n",
    "|   delta   | the percentage of the i-th iteration position will be preserved for each state in the phase-space                                                                                                                     |\n",
    "|   delay   | delay dimension used to emerge the time series in the phase space.                                                                                                                                                    |\n",
    "|  embedded | embedded dimension used to emerge the time series in the phase space.                                                                                                                                                 |\n",
    "\n",
    "For evaluate all ForceDec possibility we set up epsilon (which is used to stop the algorithm iterations based on the displacement) with small number so we can reach a high number of iterations. Also, we modified the algorithm to calculate the MDA and MDDL after each iteration. This modification was done inded to accelarate the test once restart the algorithm to recalculate the metrics for diferent iteration number is a unecessary computational effort."
   ]
  },
  {
   "cell_type": "code",
   "execution_count": 1,
   "metadata": {
    "collapsed": true
   },
   "outputs": [],
   "source": [
    "dimSepMean <- function(s.emb, m, d){\n",
    "  n = nrow(s.emb) + (m-1)*d\n",
    "  idx = matrix(1:n, ncol=m, nrow=n)\n",
    "  for(i in 2:m) idx[,i] = idx[,i] - (i-1)*d\n",
    "  idx[which(idx < 0 | idx > nrow(s.emb))] = 0\n",
    "  for(i in 1:nrow(idx)){\n",
    "    s.emb[cbind(idx[i,], 1:m)] = mean(s.emb[cbind(idx[i,], 1:m)])\n",
    "  }\n",
    "  s.emb\n",
    "}"
   ]
  },
  {
   "cell_type": "code",
   "execution_count": null,
   "metadata": {
    "collapsed": true
   },
   "outputs": [],
   "source": [
    "nn.similarity <- function(neigh.pos.i){\n",
    "  neigh.dist     = as.matrix(dist(neigh.pos.i))[1,]\n",
    "  similarity     = (1 - (neigh.dist/(max(neigh.dist)+10^-12)))\n",
    "  similarity[-1] = similarity[-1]/sum(similarity[-1])\n",
    "  return(similarity)\n",
    "}"
   ]
  },
  {
   "cell_type": "code",
   "execution_count": 6,
   "metadata": {
    "collapsed": true
   },
   "outputs": [],
   "source": [
    "forceDec <- function(series, par){\n",
    "  k        = as.numeric(unlist(par[1]))\n",
    "  num.it   = as.numeric(unlist(par[2]))\n",
    "  epsilon  = as.numeric(unlist(par[3]))\n",
    "  delta    = as.numeric(unlist(par[4]))\n",
    "  embedded = as.numeric(unlist(par[5]))\n",
    "  delay    = as.numeric(unlist(par[6]))\n",
    "\n",
    "  s.emb = tseriesChaos::embedd(series, m=embedded, d=delay)\n",
    "  nn = get.knn(s.emb, k=k)$nn.index #search for k-nearest neighbor\n",
    "  nn = cbind(1:nrow(nn), nn) #place itself as a neighbor\n",
    "\n",
    "  for(it in 1:num.it){\n",
    "    neigh.pos  = lapply(split(nn, 1:nrow(nn)), function(x){s.emb[x,]})\n",
    "    norm.simil = lapply(neigh.pos, function(x){nn.similarity(x)})\n",
    "    pos = t(mapply(\n",
    "      function(x,y, delta){\n",
    "        ((delta * x[1,]) + ((1-delta)  * colSums(x[-1,]*y[-1])))\n",
    "      },\n",
    "      neigh.pos,\n",
    "      norm.simil,\n",
    "      MoreArgs = list(delta=delta)\n",
    "    ))\n",
    "\n",
    "    pos = dimSepMean(pos, embedded, delay)\n",
    "    d = s.emb - pos\n",
    "    disp = mean(sqrt(diag(d%*%t(d))))\n",
    "\n",
    "    if(disp <= epsilon) break;\n",
    "    s.emb = pos\n",
    "  }\n",
    "\n",
    "  return(toTimeSpace(s.emb, embedded, delay))\n",
    "}"
   ]
  },
  {
   "cell_type": "code",
   "execution_count": null,
   "metadata": {
    "collapsed": false
   },
   "outputs": [],
   "source": [
    "params = expand.grid(\n",
    "  k = c(2:10,25,50),\n",
    "  num.it = 30,\n",
    "  epsilon = seq(0.001, 0.01,by=0.001),\n",
    "  delta = c(0, 0.25, 0.5, 0.75, 1)\n",
    ")"
   ]
  },
  {
   "cell_type": "code",
   "execution_count": null,
   "metadata": {
    "collapsed": false
   },
   "outputs": [],
   "source": [
    "resultTable = gridSearch(forceDecCorrection, params, seriesList, modelFolder, 'forceDec', cores)"
   ]
  },
  {
   "cell_type": "code",
   "execution_count": 25,
   "metadata": {
    "collapsed": true
   },
   "outputs": [],
   "source": [
    "write.csv(resultTable, file=paste(resultFolder,'/forceDec.csv', sep=''), row.names=FALSE)"
   ]
  }
 ],
 "metadata": {
  "anaconda-cloud": {},
  "kernelspec": {
   "display_name": "R",
   "language": "R",
   "name": "ir"
  },
  "language_info": {
   "codemirror_mode": "r",
   "file_extension": ".r",
   "mimetype": "text/x-r-source",
   "name": "R",
   "pygments_lexer": "r",
   "version": "3.2.3"
  }
 },
 "nbformat": 4,
 "nbformat_minor": 2
}
