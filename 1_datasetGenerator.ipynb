{
 "cells": [
  {
   "cell_type": "markdown",
   "metadata": {},
   "source": [
    "----\n",
    "<h3>Forcedec: A times series decompostion technique</h3>\n",
    "\n",
    "Copyright (c) 2016-2018 Universidade de Sao Paulo, Sao Carlos/SP, Brazil.\n",
    "All Rights Reserved.\n",
    "\n",
    "you can redistribute it and/or modify it under the terms of the GNU General Public License as published by the Free Software Foundation, either version 3 of the License, or (at your option) any later version.\n",
    "\n",
    "Forcedec is distributed in the hope that it will be useful, but WITHOUT ANY WARRANTY; without even the implied warranty of MERCHANTABILITY or FITNESS FOR A PARTICULAR PURPOSE. See the GNU General Public License for more details.\n",
    "\n",
    "This code was developed by members of Bio-inspired Computation - BioCom (http://www.biocom.icmc.usp.br) at Instituto de Ciencias Matematicas e de Computacao - ICMC - (http://www.icmc.usp.br) of Universidade de Sao Paulo, Sao Carlos/SP, Brazil. The initial developer of the original code is Felipe S. L. G. Duarte <felipelageduarte@usp.br>.\n",
    "\n",
    "Contributor(s): Felipe S. L. G. Duarte - felipelageduarte@usp.br\n",
    "                Rodrigo Fernandes de Mello - mello@icmc.usp.br\n",
    "                \n",
    "You should have received a copy of the GNU General Public License along with Nmap. If not, see <http://www.gnu.org/licenses/>.\n",
    "\n",
    "based on the publication:\n",
    "```\n",
    "  @Article{forcedec2017,\n",
    "   Title                    = {Forcedec: A times series decompostion technique},\n",
    "   Author                   = {Duarte, Felipe S. L. G. and Mello, Rodrigo F.},\n",
    "   Journal                  = {},\n",
    "   Year                     = {},\n",
    "   Month                    = {},\n",
    "   Number                   = {},\n",
    "   Pages                    = {},\n",
    "   Volume                   = {},\n",
    "   ISSN                     = {}\n",
    "   Doi                      = {},\n",
    " }\n",
    "```\n",
    "The software is provided \"As is\", without warranty of any kind, express or implied, including but not limited to the warranties of merchantability, fitness for a particular purpose and noninfringement. In no event shall the authors or copyright holders be liable for any claim, damages or other liability, whether in an action of contract, tort or otherwise, arising from, out of or in connection with the software or the use or other dealings in the software.\n",
    "\n",
    "----\n",
    "\n",
    "Dataset Generator\n",
    "==="
   ]
  },
  {
   "cell_type": "code",
   "execution_count": 12,
   "metadata": {
    "collapsed": false
   },
   "outputs": [],
   "source": [
    "#Include required Librarys\n",
    "require(fNonlinear)\n",
    "require(tseriesChaos)\n",
    "require(nonlinearTseries)\n",
    "source('utils.r')"
   ]
  },
  {
   "cell_type": "code",
   "execution_count": 21,
   "metadata": {
    "collapsed": true
   },
   "outputs": [],
   "source": [
    "seriesSize = 1000\n",
    "dataFolder = 'data'"
   ]
  },
  {
   "cell_type": "code",
   "execution_count": 24,
   "metadata": {
    "collapsed": false
   },
   "outputs": [],
   "source": [
    "getDeterministicSeries <- function(comp, size = 1000){\n",
    "  if(missing(comp)){\n",
    "    stop(\"You must select one of those options for deterministic component: sine, lorenz, rossler, logistic or henon\")\n",
    "  }\n",
    "\n",
    "  if(tolower(comp) == 'sine'){\n",
    "    return(list( det.series = normalize(sin(2*pi*seq(0,9,len=size))),\n",
    "                 det.sepDim = 20,\n",
    "                 det.embDim = 2,\n",
    "                 det.model  = \"sine\" ,\n",
    "                 det.length = size)\n",
    "           )\n",
    "  } else if(tolower(comp) == 'lorenz') {\n",
    "    return(\n",
    "      list(det.series = normalize(lorentzSim(doplot = FALSE,\n",
    "                            times  = seq(0, 50, by = (50/size)),\n",
    "                            parms  = c(sigma = 16, r = 45.92, b = 4),\n",
    "                            start  = c(-14, -13, 47)\n",
    "      )[,2][1:size]),\n",
    "      det.sepDim = 1,\n",
    "      det.embDim = 3,\n",
    "      det.model  = \"lorenz\",\n",
    "      det.length = size)\n",
    "    )\n",
    "  } else if(tolower(comp) == 'rossler') {\n",
    "      return(\n",
    "        list(det.series = normalize(sim.cont(rossler.syst,\n",
    "                            start.time=0,\n",
    "                            end.time=650,\n",
    "                            dt=650/size,\n",
    "                            start.x=c(0,0,0),\n",
    "                            parms=c(0.15, 0.2, 10))[1:size]),\n",
    "             det.sepDim = 1,\n",
    "             det.embDim = 3,\n",
    "             det.model  = \"rossler\",\n",
    "             det.length = size)\n",
    "      )\n",
    "  } else if(tolower(comp) == 'logistic') {\n",
    "    return(\n",
    "      list(det.series = normalize(logisticSim(n=size, parms = c(r = 3.8), start = 0.5, doplot = FALSE)),\n",
    "           det.sepDim = 1,\n",
    "           det.embDim = 2,\n",
    "           det.model  = \"logistic\",\n",
    "           det.length = size)\n",
    "    )\n",
    "  } else if(tolower(comp) == 'henon') {\n",
    "    return(\n",
    "      list(det.series = normalize(nonlinearTseries::henon(\n",
    "                                start=c(-0.006423277,-0.473545134),\n",
    "                                n.sample = size,\n",
    "                                n.transient=10,\n",
    "                                do.plot=FALSE)$x[1:size]),\n",
    "           det.sepDim = 1,\n",
    "           det.embDim = 2,\n",
    "           det.model  = \"henon\",\n",
    "           det.length = size)\n",
    "    )\n",
    "  } else {\n",
    "    stop(\"You must select one of those options for deterministic component: sine, lorenz, rossler, logistic or henon\")\n",
    "  }\n",
    "}"
   ]
  },
  {
   "cell_type": "code",
   "execution_count": 16,
   "metadata": {
    "collapsed": true
   },
   "outputs": [],
   "source": [
    "getStochasticSeries <- function(comp, params=list(), size = 1000){\n",
    "  set.seed(7)\n",
    "  if(missing(comp)){\n",
    "    stop(\"You must select one of those options for stochastic component: zero, uniforme or normal\")\n",
    "  }\n",
    "\n",
    "  if(tolower(comp) == 'zero'){\n",
    "    return(list( sto.series = rep(0, size),\n",
    "                 sto.model  = \"zero\" ,\n",
    "                 sto.params = list(),\n",
    "                 sto.length = size)\n",
    "    )\n",
    "  } else if(tolower(comp) == 'uniforme') {\n",
    "    min = ifelse(is.null(params$min), -1, params$min)\n",
    "    max = ifelse(is.null(params$max),  1, params$max)\n",
    "    return(list( sto.series = runif(size, min, max),\n",
    "                 sto.model  = paste(\"uniforme_\",min,\"_\",max, sep=\"\"),\n",
    "                 sto.params = list(min=min, max=max),\n",
    "                 sto.length = size)\n",
    "    )\n",
    "  } else if(tolower(comp) == 'normal') {\n",
    "    mean = ifelse(is.null(params$mean), 0, params$mean)\n",
    "    sd   = ifelse(is.null(params$sd), 1, params$sd)\n",
    "    return(list( sto.series = rnorm(size, mean=mean, sd=sd),\n",
    "                 sto.model  = paste(\"normal_\",mean,\"_\",sd, sep=\"\"),\n",
    "                 sto.params = list(mean=mean, sd=sd),\n",
    "                 sto.length = size)\n",
    "    )\n",
    "  } else {\n",
    "    stop(\"You must select one of those options for stochastic component: zero, uniforme or normal\")\n",
    "  }\n",
    "}"
   ]
  },
  {
   "cell_type": "code",
   "execution_count": 17,
   "metadata": {
    "collapsed": true
   },
   "outputs": [],
   "source": [
    "timeSeriesFactor <- function(det.comp, sto.comp, sto.params=list(), size = 1000){\n",
    "  det = getDeterministicSeries(det.comp, size)\n",
    "  sto = getStochasticSeries(sto.comp, sto.params, size)\n",
    "  tsObj = list(series = det$det.series + sto$sto.series, size = size)\n",
    "  tsObj = c(tsObj, det, sto)\n",
    "  return(tsObj)\n",
    "}"
   ]
  },
  {
   "cell_type": "markdown",
   "metadata": {},
   "source": [
    "-----\n",
    "Create and save all sintetic dataset into RData file for future processing"
   ]
  },
  {
   "cell_type": "code",
   "execution_count": 18,
   "metadata": {
    "collapsed": true
   },
   "outputs": [],
   "source": [
    "set.seed(6426830)\n",
    "det = list(\"sine\", \"lorenz\", \"rossler\", \"logistic\", \"henon\")\n",
    "sto = list(list(comp=\"zero\"),\n",
    "         list(comp=\"uniforme\",params=list(min=-0.01, max=0.01)),\n",
    "         list(comp=\"uniforme\",params=list(min=-0.05, max=0.05)),\n",
    "         list(comp=\"uniforme\",params=list(min=-0.10, max=0.10)),\n",
    "         list(comp=\"uniforme\",params=list(min=-0.15, max=0.15)),\n",
    "         list(comp=\"uniforme\",params=list(min=-0.20, max=0.20)),\n",
    "         list(comp=\"normal\",params=list(sd=0.01)),\n",
    "         list(comp=\"normal\",params=list(sd=0.05)),\n",
    "         list(comp=\"normal\",params=list(sd=0.10)),\n",
    "         list(comp=\"normal\",params=list(sd=0.15)),\n",
    "         list(comp=\"normal\",params=list(sd=0.20))\n",
    "         )"
   ]
  },
  {
   "cell_type": "code",
   "execution_count": 22,
   "metadata": {
    "collapsed": false
   },
   "outputs": [],
   "source": [
    "idx = 1\n",
    "for(i in 1:length(det)){\n",
    "    for(j in 1:length(sto)){\n",
    "      seriesObj = timeSeriesFactor(det[[i]], sto[[j]]$comp, sto[[j]]$params, seriesSize)\n",
    "      filename  = paste(dataFolder, sprintf('/series_%02d', idx),'.RData',sep='')\n",
    "      save(seriesObj, file=filename)\n",
    "      idx = idx + 1\n",
    "    }\n",
    "}"
   ]
  }
 ],
 "metadata": {
  "kernelspec": {
   "display_name": "R",
   "language": "R",
   "name": "ir"
  },
  "language_info": {
   "codemirror_mode": "r",
   "file_extension": ".r",
   "mimetype": "text/x-r-source",
   "name": "R",
   "pygments_lexer": "r",
   "version": "3.2.3"
  }
 },
 "nbformat": 4,
 "nbformat_minor": 2
}
